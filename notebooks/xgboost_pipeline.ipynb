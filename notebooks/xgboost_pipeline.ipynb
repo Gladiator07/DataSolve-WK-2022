{
 "cells": [
  {
   "cell_type": "code",
   "execution_count": 1,
   "id": "3fff3a8d",
   "metadata": {
    "execution": {
     "iopub.execute_input": "2022-11-24T08:38:11.809926Z",
     "iopub.status.busy": "2022-11-24T08:38:11.809382Z",
     "iopub.status.idle": "2022-11-24T08:38:11.820104Z",
     "shell.execute_reply": "2022-11-24T08:38:11.819280Z"
    },
    "papermill": {
     "duration": 0.019877,
     "end_time": "2022-11-24T08:38:11.822134",
     "exception": false,
     "start_time": "2022-11-24T08:38:11.802257",
     "status": "completed"
    },
    "tags": []
   },
   "outputs": [],
   "source": [
    "DEBUG = False\n",
    "WANDB = True\n",
    "ENVIRON = \"kaggle\"\n",
    "EXP_NAME = \"xgb-countvect\"\n",
    "NOTES = \"5 fold XGBoost pipeline, used count vectorizer with no max features set\"\n",
    "TAGS = [\"xgboost\", \"count_vectorizer\", \"5_fold_split\"]\n",
    "GROUP = \"xgboost\""
   ]
  },
  {
   "cell_type": "markdown",
   "id": "f734f8a6",
   "metadata": {
    "papermill": {
     "duration": 0.0079,
     "end_time": "2022-11-24T08:38:11.834357",
     "exception": false,
     "start_time": "2022-11-24T08:38:11.826457",
     "status": "completed"
    },
    "tags": []
   },
   "source": [
    "# Setup Environment"
   ]
  },
  {
   "cell_type": "code",
   "execution_count": 2,
   "id": "3f7cfa1f",
   "metadata": {
    "_kg_hide-output": true,
    "execution": {
     "iopub.execute_input": "2022-11-24T08:38:11.851282Z",
     "iopub.status.busy": "2022-11-24T08:38:11.850916Z",
     "iopub.status.idle": "2022-11-24T08:39:12.350090Z",
     "shell.execute_reply": "2022-11-24T08:39:12.349059Z"
    },
    "papermill": {
     "duration": 60.509979,
     "end_time": "2022-11-24T08:39:12.352417",
     "exception": false,
     "start_time": "2022-11-24T08:38:11.842438",
     "status": "completed"
    },
    "scrolled": true,
    "tags": []
   },
   "outputs": [
    {
     "name": "stdout",
     "output_type": "stream",
     "text": [
      "Cloning into 'DataSolve-2022'...\r\n",
      "remote: Enumerating objects: 34, done.\u001b[K\r\n",
      "remote: Counting objects: 100% (34/34), done.\u001b[K\r\n",
      "remote: Compressing objects: 100% (22/22), done.\u001b[K\r\n",
      "remote: Total 34 (delta 14), reused 30 (delta 10), pack-reused 0\u001b[K\r\n",
      "Unpacking objects: 100% (34/34), 21.35 KiB | 1.64 MiB/s, done.\r\n",
      "Requirement already satisfied: numpy in /opt/conda/lib/python3.7/site-packages (1.21.6)\r\n",
      "Requirement already satisfied: pandas in /opt/conda/lib/python3.7/site-packages (1.3.5)\r\n",
      "Collecting omegaconf\r\n",
      "  Downloading omegaconf-2.2.3-py3-none-any.whl (79 kB)\r\n",
      "\u001b[2K     \u001b[90m━━━━━━━━━━━━━━━━━━━━━━━━━━━━━━━━━━━━━━━\u001b[0m \u001b[32m79.3/79.3 kB\u001b[0m \u001b[31m896.8 kB/s\u001b[0m eta \u001b[36m0:00:00\u001b[0m\r\n",
      "\u001b[?25hRequirement already satisfied: scikit_learn in /opt/conda/lib/python3.7/site-packages (1.0.2)\r\n",
      "Requirement already satisfied: sentencepiece in /opt/conda/lib/python3.7/site-packages (0.1.97)\r\n",
      "Requirement already satisfied: python-dateutil>=2.7.3 in /opt/conda/lib/python3.7/site-packages (from pandas) (2.8.2)\r\n",
      "Requirement already satisfied: pytz>=2017.3 in /opt/conda/lib/python3.7/site-packages (from pandas) (2022.1)\r\n",
      "Requirement already satisfied: PyYAML>=5.1.0 in /opt/conda/lib/python3.7/site-packages (from omegaconf) (6.0)\r\n",
      "Collecting antlr4-python3-runtime==4.9.*\r\n",
      "  Downloading antlr4-python3-runtime-4.9.3.tar.gz (117 kB)\r\n",
      "\u001b[2K     \u001b[90m━━━━━━━━━━━━━━━━━━━━━━━━━━━━━━━━━━━━━━━\u001b[0m \u001b[32m117.0/117.0 kB\u001b[0m \u001b[31m1.7 MB/s\u001b[0m eta \u001b[36m0:00:00\u001b[0m\r\n",
      "\u001b[?25h  Preparing metadata (setup.py) ... \u001b[?25l-\b \bdone\r\n",
      "\u001b[?25hRequirement already satisfied: threadpoolctl>=2.0.0 in /opt/conda/lib/python3.7/site-packages (from scikit_learn) (3.1.0)\r\n",
      "Requirement already satisfied: scipy>=1.1.0 in /opt/conda/lib/python3.7/site-packages (from scikit_learn) (1.7.3)\r\n",
      "Requirement already satisfied: joblib>=0.11 in /opt/conda/lib/python3.7/site-packages (from scikit_learn) (1.0.1)\r\n",
      "Requirement already satisfied: six>=1.5 in /opt/conda/lib/python3.7/site-packages (from python-dateutil>=2.7.3->pandas) (1.15.0)\r\n",
      "Building wheels for collected packages: antlr4-python3-runtime\r\n",
      "  Building wheel for antlr4-python3-runtime (setup.py) ... \u001b[?25l-\b \b\\\b \bdone\r\n",
      "\u001b[?25h  Created wheel for antlr4-python3-runtime: filename=antlr4_python3_runtime-4.9.3-py3-none-any.whl size=144575 sha256=d9c7f550f61dd85c30c77cf853cb8823ba259ea9532c5054cb51a577bdb94712\r\n",
      "  Stored in directory: /root/.cache/pip/wheels/8b/8d/53/2af8772d9aec614e3fc65e53d4a993ad73c61daa8bbd85a873\r\n",
      "Successfully built antlr4-python3-runtime\r\n",
      "Installing collected packages: antlr4-python3-runtime, omegaconf\r\n",
      "Successfully installed antlr4-python3-runtime-4.9.3 omegaconf-2.2.3\r\n",
      "\u001b[33mWARNING: Running pip as the 'root' user can result in broken permissions and conflicting behaviour with the system package manager. It is recommended to use a virtual environment instead: https://pip.pypa.io/warnings/venv\u001b[0m\u001b[33m\r\n",
      "\u001b[0mRequirement already satisfied: transformers in /opt/conda/lib/python3.7/site-packages (4.20.1)\r\n",
      "Collecting transformers\r\n",
      "  Downloading transformers-4.24.0-py3-none-any.whl (5.5 MB)\r\n",
      "\u001b[2K     \u001b[90m━━━━━━━━━━━━━━━━━━━━━━━━━━━━━━━━━━━━━━━━\u001b[0m \u001b[32m5.5/5.5 MB\u001b[0m \u001b[31m12.6 MB/s\u001b[0m eta \u001b[36m0:00:00\u001b[0m\r\n",
      "\u001b[?25hRequirement already satisfied: wandb in /opt/conda/lib/python3.7/site-packages (0.12.21)\r\n",
      "Collecting wandb\r\n",
      "  Downloading wandb-0.13.5-py2.py3-none-any.whl (1.9 MB)\r\n",
      "\u001b[2K     \u001b[90m━━━━━━━━━━━━━━━━━━━━━━━━━━━━━━━━━━━━━━━━\u001b[0m \u001b[32m1.9/1.9 MB\u001b[0m \u001b[31m66.0 MB/s\u001b[0m eta \u001b[36m0:00:00\u001b[0m\r\n",
      "\u001b[?25hRequirement already satisfied: kaggle in /opt/conda/lib/python3.7/site-packages (1.5.12)\r\n",
      "Requirement already satisfied: rich in /opt/conda/lib/python3.7/site-packages (12.6.0)\r\n",
      "Collecting iterative-stratification\r\n",
      "  Downloading iterative_stratification-0.1.7-py3-none-any.whl (8.5 kB)\r\n",
      "Requirement already satisfied: python-dotenv in /opt/conda/lib/python3.7/site-packages (0.21.0)\r\n",
      "Requirement already satisfied: packaging>=20.0 in /opt/conda/lib/python3.7/site-packages (from transformers) (21.3)\r\n",
      "Requirement already satisfied: tqdm>=4.27 in /opt/conda/lib/python3.7/site-packages (from transformers) (4.64.0)\r\n",
      "Requirement already satisfied: requests in /opt/conda/lib/python3.7/site-packages (from transformers) (2.28.1)\r\n",
      "Requirement already satisfied: filelock in /opt/conda/lib/python3.7/site-packages (from transformers) (3.7.1)\r\n",
      "Requirement already satisfied: tokenizers!=0.11.3,<0.14,>=0.11.1 in /opt/conda/lib/python3.7/site-packages (from transformers) (0.12.1)\r\n",
      "Requirement already satisfied: importlib-metadata in /opt/conda/lib/python3.7/site-packages (from transformers) (4.13.0)\r\n",
      "Requirement already satisfied: pyyaml>=5.1 in /opt/conda/lib/python3.7/site-packages (from transformers) (6.0)\r\n",
      "Requirement already satisfied: regex!=2019.12.17 in /opt/conda/lib/python3.7/site-packages (from transformers) (2021.11.10)\r\n",
      "Requirement already satisfied: numpy>=1.17 in /opt/conda/lib/python3.7/site-packages (from transformers) (1.21.6)\r\n",
      "Requirement already satisfied: huggingface-hub<1.0,>=0.10.0 in /opt/conda/lib/python3.7/site-packages (from transformers) (0.10.1)\r\n",
      "Requirement already satisfied: Click!=8.0.0,>=7.0 in /opt/conda/lib/python3.7/site-packages (from wandb) (8.0.4)\r\n",
      "Requirement already satisfied: shortuuid>=0.5.0 in /opt/conda/lib/python3.7/site-packages (from wandb) (1.0.9)\r\n",
      "Requirement already satisfied: psutil>=5.0.0 in /opt/conda/lib/python3.7/site-packages (from wandb) (5.9.1)\r\n",
      "Requirement already satisfied: six>=1.13.0 in /opt/conda/lib/python3.7/site-packages (from wandb) (1.15.0)\r\n",
      "Requirement already satisfied: setproctitle in /opt/conda/lib/python3.7/site-packages (from wandb) (1.3.2)\r\n",
      "Requirement already satisfied: promise<3,>=2.0 in /opt/conda/lib/python3.7/site-packages (from wandb) (2.3)\r\n",
      "Requirement already satisfied: protobuf!=4.0.*,!=4.21.0,<5,>=3.12.0 in /opt/conda/lib/python3.7/site-packages (from wandb) (3.19.4)\r\n",
      "Requirement already satisfied: pathtools in /opt/conda/lib/python3.7/site-packages (from wandb) (0.1.2)\r\n",
      "Requirement already satisfied: GitPython>=1.0.0 in /opt/conda/lib/python3.7/site-packages (from wandb) (3.1.27)\r\n",
      "Requirement already satisfied: docker-pycreds>=0.4.0 in /opt/conda/lib/python3.7/site-packages (from wandb) (0.4.0)\r\n",
      "Requirement already satisfied: setuptools in /opt/conda/lib/python3.7/site-packages (from wandb) (59.8.0)\r\n",
      "Requirement already satisfied: sentry-sdk>=1.0.0 in /opt/conda/lib/python3.7/site-packages (from wandb) (1.9.10)\r\n",
      "Requirement already satisfied: certifi in /opt/conda/lib/python3.7/site-packages (from kaggle) (2022.9.24)\r\n",
      "Requirement already satisfied: python-slugify in /opt/conda/lib/python3.7/site-packages (from kaggle) (6.1.2)\r\n",
      "Requirement already satisfied: python-dateutil in /opt/conda/lib/python3.7/site-packages (from kaggle) (2.8.2)\r\n",
      "Requirement already satisfied: urllib3 in /opt/conda/lib/python3.7/site-packages (from kaggle) (1.26.12)\r\n",
      "Requirement already satisfied: typing-extensions<5.0,>=4.0.0 in /opt/conda/lib/python3.7/site-packages (from rich) (4.1.1)\r\n",
      "Requirement already satisfied: commonmark<0.10.0,>=0.9.0 in /opt/conda/lib/python3.7/site-packages (from rich) (0.9.1)\r\n",
      "Requirement already satisfied: pygments<3.0.0,>=2.6.0 in /opt/conda/lib/python3.7/site-packages (from rich) (2.12.0)\r\n",
      "Requirement already satisfied: scikit-learn in /opt/conda/lib/python3.7/site-packages (from iterative-stratification) (1.0.2)\r\n",
      "Requirement already satisfied: scipy in /opt/conda/lib/python3.7/site-packages (from iterative-stratification) (1.7.3)\r\n",
      "Requirement already satisfied: gitdb<5,>=4.0.1 in /opt/conda/lib/python3.7/site-packages (from GitPython>=1.0.0->wandb) (4.0.9)\r\n",
      "Requirement already satisfied: pyparsing!=3.0.5,>=2.0.2 in /opt/conda/lib/python3.7/site-packages (from packaging>=20.0->transformers) (3.0.9)\r\n",
      "Requirement already satisfied: charset-normalizer<3,>=2 in /opt/conda/lib/python3.7/site-packages (from requests->transformers) (2.1.0)\r\n",
      "Requirement already satisfied: idna<4,>=2.5 in /opt/conda/lib/python3.7/site-packages (from requests->transformers) (3.3)\r\n",
      "Requirement already satisfied: zipp>=0.5 in /opt/conda/lib/python3.7/site-packages (from importlib-metadata->transformers) (3.8.0)\r\n",
      "Requirement already satisfied: text-unidecode>=1.3 in /opt/conda/lib/python3.7/site-packages (from python-slugify->kaggle) (1.3)\r\n",
      "Requirement already satisfied: joblib>=0.11 in /opt/conda/lib/python3.7/site-packages (from scikit-learn->iterative-stratification) (1.0.1)\r\n",
      "Requirement already satisfied: threadpoolctl>=2.0.0 in /opt/conda/lib/python3.7/site-packages (from scikit-learn->iterative-stratification) (3.1.0)\r\n",
      "Requirement already satisfied: smmap<6,>=3.0.1 in /opt/conda/lib/python3.7/site-packages (from gitdb<5,>=4.0.1->GitPython>=1.0.0->wandb) (3.0.5)\r\n",
      "Installing collected packages: wandb, transformers, iterative-stratification\r\n",
      "  Attempting uninstall: wandb\r\n",
      "    Found existing installation: wandb 0.12.21\r\n",
      "    Uninstalling wandb-0.12.21:\r\n",
      "      Successfully uninstalled wandb-0.12.21\r\n",
      "  Attempting uninstall: transformers\r\n",
      "    Found existing installation: transformers 4.20.1\r\n",
      "    Uninstalling transformers-4.20.1:\r\n",
      "      Successfully uninstalled transformers-4.20.1\r\n",
      "\u001b[31mERROR: pip's dependency resolver does not currently take into account all the packages that are installed. This behaviour is the source of the following dependency conflicts.\r\n",
      "allennlp 2.10.1 requires transformers<4.21,>=4.1, but you have transformers 4.24.0 which is incompatible.\r\n",
      "allennlp 2.10.1 requires wandb<0.13.0,>=0.10.0, but you have wandb 0.13.5 which is incompatible.\u001b[0m\u001b[31m\r\n",
      "\u001b[0mSuccessfully installed iterative-stratification-0.1.7 transformers-4.24.0 wandb-0.13.5\r\n",
      "\u001b[33mWARNING: Running pip as the 'root' user can result in broken permissions and conflicting behaviour with the system package manager. It is recommended to use a virtual environment instead: https://pip.pypa.io/warnings/venv\u001b[0m\u001b[33m\r\n",
      "\u001b[0mCollecting git+https://github.com/huggingface/accelerate\r\n",
      "  Cloning https://github.com/huggingface/accelerate to /tmp/pip-req-build-dukcj4hh\r\n",
      "  Running command git clone --filter=blob:none --quiet https://github.com/huggingface/accelerate /tmp/pip-req-build-dukcj4hh\r\n",
      "  Resolved https://github.com/huggingface/accelerate to commit e4e5611e5d4270a846caf42cba3388e54b83f074\r\n",
      "  Installing build dependencies ... \u001b[?25l-\b \b\\\b \b|\b \b/\b \b-\b \b\\\b \bdone\r\n",
      "\u001b[?25h  Getting requirements to build wheel ... \u001b[?25l-\b \bdone\r\n",
      "\u001b[?25h  Preparing metadata (pyproject.toml) ... \u001b[?25l-\b \bdone\r\n",
      "\u001b[?25hRequirement already satisfied: numpy>=1.17 in /opt/conda/lib/python3.7/site-packages (from accelerate==0.15.0.dev0) (1.21.6)\r\n",
      "Requirement already satisfied: torch>=1.4.0 in /opt/conda/lib/python3.7/site-packages (from accelerate==0.15.0.dev0) (1.11.0)\r\n",
      "Requirement already satisfied: packaging>=20.0 in /opt/conda/lib/python3.7/site-packages (from accelerate==0.15.0.dev0) (21.3)\r\n",
      "Requirement already satisfied: psutil in /opt/conda/lib/python3.7/site-packages (from accelerate==0.15.0.dev0) (5.9.1)\r\n",
      "Requirement already satisfied: pyyaml in /opt/conda/lib/python3.7/site-packages (from accelerate==0.15.0.dev0) (6.0)\r\n",
      "Requirement already satisfied: pyparsing!=3.0.5,>=2.0.2 in /opt/conda/lib/python3.7/site-packages (from packaging>=20.0->accelerate==0.15.0.dev0) (3.0.9)\r\n",
      "Requirement already satisfied: typing-extensions in /opt/conda/lib/python3.7/site-packages (from torch>=1.4.0->accelerate==0.15.0.dev0) (4.1.1)\r\n",
      "Building wheels for collected packages: accelerate\r\n",
      "  Building wheel for accelerate (pyproject.toml) ... \u001b[?25l-\b \b\\\b \bdone\r\n",
      "\u001b[?25h  Created wheel for accelerate: filename=accelerate-0.15.0.dev0-py3-none-any.whl size=190343 sha256=80dd203f70f0c356426e8ca446ea8bc4309bdfc186ffc22d812b2331963d5796\r\n",
      "  Stored in directory: /tmp/pip-ephem-wheel-cache-wh8adz67/wheels/81/c1/23/6068c1115888b4dd7da88f966c002c30840985c047f6cc1653\r\n",
      "Successfully built accelerate\r\n",
      "Installing collected packages: accelerate\r\n",
      "  Attempting uninstall: accelerate\r\n",
      "    Found existing installation: accelerate 0.12.0\r\n",
      "    Uninstalling accelerate-0.12.0:\r\n",
      "      Successfully uninstalled accelerate-0.12.0\r\n",
      "Successfully installed accelerate-0.15.0.dev0\r\n",
      "\u001b[33mWARNING: Running pip as the 'root' user can result in broken permissions and conflicting behaviour with the system package manager. It is recommended to use a virtual environment instead: https://pip.pypa.io/warnings/venv\u001b[0m\u001b[33m\r\n",
      "\u001b[0mDownloading data\r\n",
      "Downloading datasolve-dataset.zip to /kaggle/working/DataSolve-2022/input\r\n",
      " 84%|████████████████████████████████▊      | 33.0M/39.3M [00:00<00:00, 119MB/s]\r\n",
      "100%|███████████████████████████████████████| 39.3M/39.3M [00:00<00:00, 118MB/s]\r\n",
      "Archive:  datasolve-dataset.zip\r\n",
      "  inflating: sample_submission.csv   \r\n",
      "  inflating: test.csv                \r\n",
      "  inflating: train.csv               \r\n",
      "  inflating: train_folds_5.csv       \r\n",
      "  inflating: train_processed.csv     \r\n"
     ]
    }
   ],
   "source": [
    "import pkgutil\n",
    "from pathlib import Path\n",
    "\n",
    "PROJECT = \"DataSolve-2022\"\n",
    "\n",
    "if ENVIRON == \"jarvislabs\":\n",
    "    ROOT_DIR = Path(f\"/home/{PROJECT}\")\n",
    "    ARTIFACTS_DIR = Path(\"/home/artifacts\") \n",
    "    SETUP_SCRIPT_PATH = Path(\"/home/setup.sh\")\n",
    "\n",
    "elif ENVIRON == \"kaggle\":\n",
    "    ROOT_DIR = Path(f\"/kaggle/working/{PROJECT}\")\n",
    "    ARTIFACTS_DIR = Path(\"/kaggle/working/artifacts\")\n",
    "    SETUP_SCRIPT_PATH = Path(\"/kaggle/input/datasolve-setup-script/setup.sh\")\n",
    "    \n",
    "if not pkgutil.find_loader(\"omegaconf\") and ENVIRON == \"kaggle\":    \n",
    "    !bash {SETUP_SCRIPT_PATH} {ENVIRON} \"true\"\n",
    "\n",
    "# load secret keys\n",
    "%load_ext dotenv\n",
    "if ENVIRON == \"kaggle\":\n",
    "    %dotenv /kaggle/input/datasolve-setup-script/.env\n",
    "else:\n",
    "    %dotenv {ROOT_DIR}/.env"
   ]
  },
  {
   "cell_type": "markdown",
   "id": "a8f76a7f",
   "metadata": {
    "_cell_guid": "b1076dfc-b9ad-4769-8c92-a6c4dae69d19",
    "_uuid": "8f2839f25d086af736a60e9eeb907d3b93b6e0e5",
    "papermill": {
     "duration": 0.008549,
     "end_time": "2022-11-24T08:39:12.370330",
     "exception": false,
     "start_time": "2022-11-24T08:39:12.361781",
     "status": "completed"
    },
    "tags": []
   },
   "source": [
    "# Configuration"
   ]
  },
  {
   "cell_type": "code",
   "execution_count": 3,
   "id": "94cb06fb",
   "metadata": {
    "execution": {
     "iopub.execute_input": "2022-11-24T08:39:12.389259Z",
     "iopub.status.busy": "2022-11-24T08:39:12.388947Z",
     "iopub.status.idle": "2022-11-24T08:39:12.997016Z",
     "shell.execute_reply": "2022-11-24T08:39:12.995089Z"
    },
    "papermill": {
     "duration": 0.620151,
     "end_time": "2022-11-24T08:39:12.999224",
     "exception": false,
     "start_time": "2022-11-24T08:39:12.379073",
     "status": "completed"
    },
    "tags": []
   },
   "outputs": [
    {
     "name": "stdout",
     "output_type": "stream",
     "text": [
      "Saving outputs to /kaggle/working/artifacts/xgb-countvect\n",
      "Experiment: xgb-countvect, Desc: 5 fold XGBoost pipeline, used count vectorizer with no max features set\n",
      "\n",
      "debug: false\n",
      "wandb: true\n",
      "group: xgboost\n",
      "seed: 42\n",
      "train_csv: train_folds_5.csv\n",
      "fold: 0\n",
      "exp_name: xgb-countvect\n",
      "notes: 5 fold XGBoost pipeline, used count vectorizer with no max features set\n",
      "tags:\n",
      "- xgboost\n",
      "- count_vectorizer\n",
      "- 5_fold_split\n",
      "upload_artifacts_to_wandb: true\n",
      "tfidf_max_features: null\n",
      "\n"
     ]
    }
   ],
   "source": [
    "import os, gc\n",
    "import math\n",
    "gc.enable()\n",
    "\n",
    "import shutil\n",
    "import wandb\n",
    "from wandb import AlertLevel\n",
    "from omegaconf import OmegaConf\n",
    "\n",
    "class Config:\n",
    "    # general\n",
    "    debug = DEBUG\n",
    "    wandb = WANDB\n",
    "    group = GROUP\n",
    "    seed = 42\n",
    "    train_csv = \"train_folds_5.csv\"\n",
    "    fold = 0 # will be overriden later\n",
    "    \n",
    "    # tracking\n",
    "    exp_name = EXP_NAME\n",
    "    notes = NOTES\n",
    "    tags = TAGS\n",
    "    upload_artifacts_to_wandb = True\n",
    "    \n",
    "    # misc\n",
    "    tfidf_max_features = None\n",
    "    \n",
    "\n",
    "config_dict = {x:dict(Config.__dict__)[x] for x in dict(Config.__dict__) if not x.startswith('_')}\n",
    "cfg = OmegaConf.create(config_dict)\n",
    "\n",
    "if cfg.debug:\n",
    "    cfg.tags += [\"debug\"]\n",
    "    cfg.tfidf_max_features = 10\n",
    "\n",
    "OUTPUT_DIR = Path(ARTIFACTS_DIR/cfg.exp_name)\n",
    "print(f\"Saving outputs to {OUTPUT_DIR}\")\n",
    "os.makedirs(OUTPUT_DIR, exist_ok=True)\n",
    "print(f\"Experiment: {cfg.exp_name}, Desc: {cfg.notes}\\n\")\n",
    "print(OmegaConf.to_yaml(cfg, resolve=True))"
   ]
  },
  {
   "cell_type": "markdown",
   "id": "4e4681d8",
   "metadata": {
    "papermill": {
     "duration": 0.008636,
     "end_time": "2022-11-24T08:39:13.018369",
     "exception": false,
     "start_time": "2022-11-24T08:39:13.009733",
     "status": "completed"
    },
    "tags": []
   },
   "source": [
    "# Imports"
   ]
  },
  {
   "cell_type": "code",
   "execution_count": 4,
   "id": "a8b98a7e",
   "metadata": {
    "execution": {
     "iopub.execute_input": "2022-11-24T08:39:13.038037Z",
     "iopub.status.busy": "2022-11-24T08:39:13.037081Z",
     "iopub.status.idle": "2022-11-24T08:39:13.915606Z",
     "shell.execute_reply": "2022-11-24T08:39:13.914650Z"
    },
    "papermill": {
     "duration": 0.890876,
     "end_time": "2022-11-24T08:39:13.918005",
     "exception": false,
     "start_time": "2022-11-24T08:39:13.027129",
     "status": "completed"
    },
    "tags": []
   },
   "outputs": [],
   "source": [
    "import pickle\n",
    "import numpy as np\n",
    "import pandas as pd\n",
    "import xgboost as xgb\n",
    "from sklearn.feature_extraction.text import TfidfVectorizer, CountVectorizer\n",
    "from sklearn.metrics import roc_auc_score"
   ]
  },
  {
   "cell_type": "markdown",
   "id": "5436016a",
   "metadata": {
    "papermill": {
     "duration": 0.008905,
     "end_time": "2022-11-24T08:39:13.936163",
     "exception": false,
     "start_time": "2022-11-24T08:39:13.927258",
     "status": "completed"
    },
    "tags": []
   },
   "source": [
    "# Init W&B run"
   ]
  },
  {
   "cell_type": "code",
   "execution_count": 5,
   "id": "d51e3e5d",
   "metadata": {
    "execution": {
     "iopub.execute_input": "2022-11-24T08:39:13.955703Z",
     "iopub.status.busy": "2022-11-24T08:39:13.954788Z",
     "iopub.status.idle": "2022-11-24T08:39:23.339664Z",
     "shell.execute_reply": "2022-11-24T08:39:23.338603Z"
    },
    "papermill": {
     "duration": 9.397571,
     "end_time": "2022-11-24T08:39:23.342538",
     "exception": false,
     "start_time": "2022-11-24T08:39:13.944967",
     "status": "completed"
    },
    "tags": []
   },
   "outputs": [
    {
     "name": "stderr",
     "output_type": "stream",
     "text": [
      "\u001b[34m\u001b[1mwandb\u001b[0m: Currently logged in as: \u001b[33mgladiator\u001b[0m. Use \u001b[1m`wandb login --relogin`\u001b[0m to force relogin\n"
     ]
    },
    {
     "data": {
      "text/html": [
       "Tracking run with wandb version 0.13.5"
      ],
      "text/plain": [
       "<IPython.core.display.HTML object>"
      ]
     },
     "metadata": {},
     "output_type": "display_data"
    },
    {
     "data": {
      "text/html": [
       "Run data is saved locally in <code>/kaggle/working/wandb/run-20221124_083916-dl9j2m55</code>"
      ],
      "text/plain": [
       "<IPython.core.display.HTML object>"
      ]
     },
     "metadata": {},
     "output_type": "display_data"
    },
    {
     "data": {
      "text/html": [
       "Syncing run <strong><a href=\"https://wandb.ai/gladiator/DataSolve-2022/runs/dl9j2m55\" target=\"_blank\">xgb-countvect</a></strong> to <a href=\"https://wandb.ai/gladiator/DataSolve-2022\" target=\"_blank\">Weights & Biases</a> (<a href=\"https://wandb.me/run\" target=\"_blank\">docs</a>)<br/>"
      ],
      "text/plain": [
       "<IPython.core.display.HTML object>"
      ]
     },
     "metadata": {},
     "output_type": "display_data"
    }
   ],
   "source": [
    "if cfg.wandb:\n",
    "    wandb.init(\n",
    "        project=\"DataSolve-2022\",\n",
    "        group=cfg.group,\n",
    "        name=cfg.exp_name,\n",
    "        tags=cfg.tags,\n",
    "        notes=cfg.notes,\n",
    "        config=config_dict,\n",
    "        save_code=True,\n",
    "    )\n",
    "    wandb.alert(\n",
    "        title=f\"Experiment {wandb.run.name}\",\n",
    "        text=f\"🚀 Starting experiment {wandb.run.name}, Description: {cfg.notes}\",\n",
    "        level=AlertLevel.INFO,\n",
    "        wait_duration=0,\n",
    "    )"
   ]
  },
  {
   "cell_type": "markdown",
   "id": "09d0a4fd",
   "metadata": {
    "papermill": {
     "duration": 0.013948,
     "end_time": "2022-11-24T08:39:23.371070",
     "exception": false,
     "start_time": "2022-11-24T08:39:23.357122",
     "status": "completed"
    },
    "tags": []
   },
   "source": [
    "# Helper functions"
   ]
  },
  {
   "cell_type": "code",
   "execution_count": 6,
   "id": "5343b120",
   "metadata": {
    "execution": {
     "iopub.execute_input": "2022-11-24T08:39:23.400996Z",
     "iopub.status.busy": "2022-11-24T08:39:23.400641Z",
     "iopub.status.idle": "2022-11-24T08:39:24.317374Z",
     "shell.execute_reply": "2022-11-24T08:39:24.316286Z"
    },
    "papermill": {
     "duration": 0.93493,
     "end_time": "2022-11-24T08:39:24.320196",
     "exception": false,
     "start_time": "2022-11-24T08:39:23.385266",
     "status": "completed"
    },
    "tags": []
   },
   "outputs": [],
   "source": [
    "def clear_memory():\n",
    "    gc.collect()\n",
    "    torch.cuda.empty_cache()\n",
    "\n",
    "def delete_file(path: str):\n",
    "    if os.exists(path):\n",
    "        os.remove(path)\n",
    "\n",
    "def save_pickle(obj, filepath):\n",
    "    with open(filepath, 'wb') as handle:\n",
    "        pickle.dump(obj, handle, protocol=pickle.HIGHEST_PROTOCOL)\n",
    "        \n",
    "def post_process_logits(logits: np.ndarray, threshold=0.5):\n",
    "    preds = np.zeros(logits.shape)\n",
    "    preds[np.where(logits >= threshold)] = 1\n",
    "    preds = preds.flatten().astype(int)\n",
    "    return preds"
   ]
  },
  {
   "cell_type": "markdown",
   "id": "36108071",
   "metadata": {
    "papermill": {
     "duration": 0.014261,
     "end_time": "2022-11-24T08:39:24.349203",
     "exception": false,
     "start_time": "2022-11-24T08:39:24.334942",
     "status": "completed"
    },
    "tags": []
   },
   "source": [
    "# Read Data"
   ]
  },
  {
   "cell_type": "code",
   "execution_count": 7,
   "id": "beaeda69",
   "metadata": {
    "execution": {
     "iopub.execute_input": "2022-11-24T08:39:24.379772Z",
     "iopub.status.busy": "2022-11-24T08:39:24.379396Z",
     "iopub.status.idle": "2022-11-24T08:39:25.615466Z",
     "shell.execute_reply": "2022-11-24T08:39:25.614439Z"
    },
    "papermill": {
     "duration": 1.255146,
     "end_time": "2022-11-24T08:39:25.618890",
     "exception": false,
     "start_time": "2022-11-24T08:39:24.363744",
     "status": "completed"
    },
    "tags": []
   },
   "outputs": [
    {
     "name": "stdout",
     "output_type": "stream",
     "text": [
      "50\n"
     ]
    },
    {
     "data": {
      "text/html": [
       "<div>\n",
       "<style scoped>\n",
       "    .dataframe tbody tr th:only-of-type {\n",
       "        vertical-align: middle;\n",
       "    }\n",
       "\n",
       "    .dataframe tbody tr th {\n",
       "        vertical-align: top;\n",
       "    }\n",
       "\n",
       "    .dataframe thead th {\n",
       "        text-align: right;\n",
       "    }\n",
       "</style>\n",
       "<table border=\"1\" class=\"dataframe\">\n",
       "  <thead>\n",
       "    <tr style=\"text-align: right;\">\n",
       "      <th></th>\n",
       "      <th>id</th>\n",
       "      <th>name</th>\n",
       "      <th>document_text</th>\n",
       "      <th>Accounting and Finance</th>\n",
       "      <th>Antitrust</th>\n",
       "      <th>Banking</th>\n",
       "      <th>Broker Dealer</th>\n",
       "      <th>Commodities Trading</th>\n",
       "      <th>Compliance Management</th>\n",
       "      <th>Consumer protection</th>\n",
       "      <th>...</th>\n",
       "      <th>Risk Management</th>\n",
       "      <th>Securities Clearing</th>\n",
       "      <th>Securities Issuing</th>\n",
       "      <th>Securities Management</th>\n",
       "      <th>Securities Sales</th>\n",
       "      <th>Securities Settlement</th>\n",
       "      <th>Trade Pricing</th>\n",
       "      <th>Trade Settlement</th>\n",
       "      <th>fold</th>\n",
       "      <th>text</th>\n",
       "    </tr>\n",
       "  </thead>\n",
       "  <tbody>\n",
       "    <tr>\n",
       "      <th>0</th>\n",
       "      <td>4772</td>\n",
       "      <td>Consent Order in the Matter of Solium Financia...</td>\n",
       "      <td>Solium Financial Services LLC (\"SFS\") is a bro...</td>\n",
       "      <td>0</td>\n",
       "      <td>0</td>\n",
       "      <td>0</td>\n",
       "      <td>1</td>\n",
       "      <td>0</td>\n",
       "      <td>1</td>\n",
       "      <td>0</td>\n",
       "      <td>...</td>\n",
       "      <td>0</td>\n",
       "      <td>0</td>\n",
       "      <td>0</td>\n",
       "      <td>0</td>\n",
       "      <td>0</td>\n",
       "      <td>0</td>\n",
       "      <td>0</td>\n",
       "      <td>0</td>\n",
       "      <td>0</td>\n",
       "      <td>Consent Order in the Matter of Solium Financia...</td>\n",
       "    </tr>\n",
       "    <tr>\n",
       "      <th>1</th>\n",
       "      <td>4774</td>\n",
       "      <td>Alberta Securities Commission Warns Investors ...</td>\n",
       "      <td>A new year brings new investment opportunities...</td>\n",
       "      <td>0</td>\n",
       "      <td>0</td>\n",
       "      <td>0</td>\n",
       "      <td>0</td>\n",
       "      <td>0</td>\n",
       "      <td>0</td>\n",
       "      <td>0</td>\n",
       "      <td>...</td>\n",
       "      <td>0</td>\n",
       "      <td>0</td>\n",
       "      <td>0</td>\n",
       "      <td>0</td>\n",
       "      <td>0</td>\n",
       "      <td>0</td>\n",
       "      <td>0</td>\n",
       "      <td>0</td>\n",
       "      <td>0</td>\n",
       "      <td>Alberta Securities Commission Warns Investors ...</td>\n",
       "    </tr>\n",
       "    <tr>\n",
       "      <th>2</th>\n",
       "      <td>4775</td>\n",
       "      <td>Exempt Market Dealer Agrees to Settlement</td>\n",
       "      <td>The Alberta Securities Commission (ASC) has co...</td>\n",
       "      <td>0</td>\n",
       "      <td>0</td>\n",
       "      <td>0</td>\n",
       "      <td>1</td>\n",
       "      <td>0</td>\n",
       "      <td>1</td>\n",
       "      <td>0</td>\n",
       "      <td>...</td>\n",
       "      <td>0</td>\n",
       "      <td>0</td>\n",
       "      <td>0</td>\n",
       "      <td>0</td>\n",
       "      <td>1</td>\n",
       "      <td>1</td>\n",
       "      <td>0</td>\n",
       "      <td>1</td>\n",
       "      <td>2</td>\n",
       "      <td>Exempt Market Dealer Agrees to Settlement. The...</td>\n",
       "    </tr>\n",
       "    <tr>\n",
       "      <th>3</th>\n",
       "      <td>4776</td>\n",
       "      <td>Canadian Securities Regulators Announces Consu...</td>\n",
       "      <td>The Canadian Securities Administrators (CSA) p...</td>\n",
       "      <td>0</td>\n",
       "      <td>0</td>\n",
       "      <td>0</td>\n",
       "      <td>0</td>\n",
       "      <td>0</td>\n",
       "      <td>0</td>\n",
       "      <td>0</td>\n",
       "      <td>...</td>\n",
       "      <td>0</td>\n",
       "      <td>0</td>\n",
       "      <td>0</td>\n",
       "      <td>0</td>\n",
       "      <td>0</td>\n",
       "      <td>1</td>\n",
       "      <td>0</td>\n",
       "      <td>0</td>\n",
       "      <td>4</td>\n",
       "      <td>Canadian Securities Regulators Announces Consu...</td>\n",
       "    </tr>\n",
       "    <tr>\n",
       "      <th>4</th>\n",
       "      <td>4778</td>\n",
       "      <td>CSA Consultation Paper 51-405 Consideration of...</td>\n",
       "      <td>On April 6, 2017, the Canadian Securities Admi...</td>\n",
       "      <td>0</td>\n",
       "      <td>0</td>\n",
       "      <td>0</td>\n",
       "      <td>0</td>\n",
       "      <td>0</td>\n",
       "      <td>0</td>\n",
       "      <td>1</td>\n",
       "      <td>...</td>\n",
       "      <td>0</td>\n",
       "      <td>0</td>\n",
       "      <td>0</td>\n",
       "      <td>0</td>\n",
       "      <td>0</td>\n",
       "      <td>1</td>\n",
       "      <td>0</td>\n",
       "      <td>0</td>\n",
       "      <td>2</td>\n",
       "      <td>CSA Consultation Paper 51-405 Consideration of...</td>\n",
       "    </tr>\n",
       "  </tbody>\n",
       "</table>\n",
       "<p>5 rows × 55 columns</p>\n",
       "</div>"
      ],
      "text/plain": [
       "     id                                               name  \\\n",
       "0  4772  Consent Order in the Matter of Solium Financia...   \n",
       "1  4774  Alberta Securities Commission Warns Investors ...   \n",
       "2  4775          Exempt Market Dealer Agrees to Settlement   \n",
       "3  4776  Canadian Securities Regulators Announces Consu...   \n",
       "4  4778  CSA Consultation Paper 51-405 Consideration of...   \n",
       "\n",
       "                                       document_text  Accounting and Finance  \\\n",
       "0  Solium Financial Services LLC (\"SFS\") is a bro...                       0   \n",
       "1  A new year brings new investment opportunities...                       0   \n",
       "2  The Alberta Securities Commission (ASC) has co...                       0   \n",
       "3  The Canadian Securities Administrators (CSA) p...                       0   \n",
       "4  On April 6, 2017, the Canadian Securities Admi...                       0   \n",
       "\n",
       "   Antitrust  Banking  Broker Dealer  Commodities Trading  \\\n",
       "0          0        0              1                    0   \n",
       "1          0        0              0                    0   \n",
       "2          0        0              1                    0   \n",
       "3          0        0              0                    0   \n",
       "4          0        0              0                    0   \n",
       "\n",
       "   Compliance Management  Consumer protection  ...  Risk Management  \\\n",
       "0                      1                    0  ...                0   \n",
       "1                      0                    0  ...                0   \n",
       "2                      1                    0  ...                0   \n",
       "3                      0                    0  ...                0   \n",
       "4                      0                    1  ...                0   \n",
       "\n",
       "   Securities Clearing  Securities Issuing  Securities Management  \\\n",
       "0                    0                   0                      0   \n",
       "1                    0                   0                      0   \n",
       "2                    0                   0                      0   \n",
       "3                    0                   0                      0   \n",
       "4                    0                   0                      0   \n",
       "\n",
       "   Securities Sales  Securities Settlement  Trade Pricing  Trade Settlement  \\\n",
       "0                 0                      0              0                 0   \n",
       "1                 0                      0              0                 0   \n",
       "2                 1                      1              0                 1   \n",
       "3                 0                      1              0                 0   \n",
       "4                 0                      1              0                 0   \n",
       "\n",
       "   fold                                               text  \n",
       "0     0  Consent Order in the Matter of Solium Financia...  \n",
       "1     0  Alberta Securities Commission Warns Investors ...  \n",
       "2     2  Exempt Market Dealer Agrees to Settlement. The...  \n",
       "3     4  Canadian Securities Regulators Announces Consu...  \n",
       "4     2  CSA Consultation Paper 51-405 Consideration of...  \n",
       "\n",
       "[5 rows x 55 columns]"
      ]
     },
     "execution_count": 7,
     "metadata": {},
     "output_type": "execute_result"
    }
   ],
   "source": [
    "# READ DATA\n",
    "df = pd.read_csv(ROOT_DIR/'input'/cfg.train_csv)\n",
    "test_df = pd.read_csv(ROOT_DIR/'input'/'test.csv')\n",
    "\n",
    "df['text'] = df['name'] + \". \" + df['document_text']\n",
    "test_df['text'] = test_df['name'] + \". \" + test_df['document_text']\n",
    "if cfg.debug:\n",
    "    df = df.sample(100, random_state=42).reset_index(drop=True)\n",
    "LABEL_COLS = [col for col in df.columns if col not in [\"id\", \"name\", \"document_text\", \"fold\", \"text\"]]\n",
    "print(len(LABEL_COLS))\n",
    "df.head()"
   ]
  },
  {
   "cell_type": "markdown",
   "id": "35949ed2",
   "metadata": {
    "papermill": {
     "duration": 0.014234,
     "end_time": "2022-11-24T08:39:25.648331",
     "exception": false,
     "start_time": "2022-11-24T08:39:25.634097",
     "status": "completed"
    },
    "tags": []
   },
   "source": [
    "# Train"
   ]
  },
  {
   "cell_type": "code",
   "execution_count": 8,
   "id": "1379b58f",
   "metadata": {
    "execution": {
     "iopub.execute_input": "2022-11-24T08:39:25.677921Z",
     "iopub.status.busy": "2022-11-24T08:39:25.677362Z",
     "iopub.status.idle": "2022-11-24T09:54:46.296637Z",
     "shell.execute_reply": "2022-11-24T09:54:46.295598Z"
    },
    "papermill": {
     "duration": 4520.636924,
     "end_time": "2022-11-24T09:54:46.299273",
     "exception": false,
     "start_time": "2022-11-24T08:39:25.662349",
     "status": "completed"
    },
    "tags": []
   },
   "outputs": [
    {
     "name": "stdout",
     "output_type": "stream",
     "text": [
      "fold-0 score: 0.8906116551576914\n",
      "fold-1 score: 0.8933744476353208\n",
      "fold-2 score: 0.891857228854602\n",
      "fold-3 score: 0.8824038440941763\n",
      "fold-4 score: 0.8857650924410466\n",
      "CV Score: 0.888802\n",
      "CPU times: user 1h 15min 7s, sys: 4.36 s, total: 1h 15min 12s\n",
      "Wall time: 1h 15min 19s\n"
     ]
    }
   ],
   "source": [
    "%%time\n",
    "all_logits = []\n",
    "all_ids = []\n",
    "all_labels = []\n",
    "all_test_logits = []\n",
    "\n",
    "for fold in range(5):\n",
    "    cfg.fold = fold\n",
    "    \n",
    "    train_df = df[df['fold'] != fold].reset_index(drop=True)\n",
    "    valid_df = df[df['fold'] == fold].reset_index(drop=True)\n",
    "\n",
    "    tfv = CountVectorizer(max_features = cfg.tfidf_max_features)\n",
    "    tfv.fit(train_df['text'].to_numpy())\n",
    "\n",
    "    xtrain = tfv.transform(train_df['text'].to_numpy())\n",
    "    xvalid = tfv.transform(valid_df['text'].to_numpy())\n",
    "    ytrain = train_df[LABEL_COLS]\n",
    "    yvalid = valid_df[LABEL_COLS]\n",
    "    labels = yvalid.to_numpy().flatten()\n",
    "    \n",
    "    xtest = tfv.transform(test_df['text'].to_numpy())\n",
    "    \n",
    "    clf = xgb.XGBClassifier(random_state=cfg.seed, tree_method=\"gpu_hist\")\n",
    "    clf.fit(xtrain, ytrain)\n",
    "    \n",
    "    val_logits = clf.predict_proba(xvalid)\n",
    "    val_preds = post_process_logits(val_logits)\n",
    "    print(f\"fold-{cfg.fold} score: {roc_auc_score(labels, val_preds, average='macro')}\")\n",
    "    \n",
    "    test_logits = clf.predict_proba(xtest)\n",
    "    \n",
    "    all_ids.append(valid_df['id'].to_numpy())\n",
    "    all_labels.append(yvalid.to_numpy())\n",
    "    all_logits.append(val_logits)\n",
    "    all_test_logits.append(test_logits)\n",
    "    \n",
    "    clf.save_model(OUTPUT_DIR/f'model_{fold}.json')\n",
    "\n",
    "# Save oof predictions\n",
    "oof_logits = np.concatenate(all_logits)\n",
    "oof_labels = np.concatenate(all_labels)\n",
    "oof_ids = np.concatenate(all_ids)\n",
    "oof_dict = {\"id\": oof_ids, \"labels\": oof_labels, \"logits\": oof_logits}\n",
    "save_pickle(oof_dict, OUTPUT_DIR/f'{cfg.exp_name}_oof.pkl')\n",
    "\n",
    "cv_score = roc_auc_score(oof_labels.flatten(), post_process_logits(oof_logits), average=\"macro\")\n",
    "print(f\"CV Score: {cv_score:.6f}\")\n",
    "\n",
    "if cfg.wandb:\n",
    "    wandb.log({\"cv\": cv_score})"
   ]
  },
  {
   "cell_type": "markdown",
   "id": "cfc27cd8",
   "metadata": {
    "papermill": {
     "duration": 0.010494,
     "end_time": "2022-11-24T09:54:46.320455",
     "exception": false,
     "start_time": "2022-11-24T09:54:46.309961",
     "status": "completed"
    },
    "tags": []
   },
   "source": [
    "# Inference"
   ]
  },
  {
   "cell_type": "code",
   "execution_count": 9,
   "id": "086c15a7",
   "metadata": {
    "execution": {
     "iopub.execute_input": "2022-11-24T09:54:46.342937Z",
     "iopub.status.busy": "2022-11-24T09:54:46.342668Z",
     "iopub.status.idle": "2022-11-24T09:54:47.078556Z",
     "shell.execute_reply": "2022-11-24T09:54:47.077707Z"
    },
    "papermill": {
     "duration": 0.749666,
     "end_time": "2022-11-24T09:54:47.080536",
     "exception": false,
     "start_time": "2022-11-24T09:54:46.330870",
     "status": "completed"
    },
    "tags": []
   },
   "outputs": [
    {
     "data": {
      "text/html": [
       "<div>\n",
       "<style scoped>\n",
       "    .dataframe tbody tr th:only-of-type {\n",
       "        vertical-align: middle;\n",
       "    }\n",
       "\n",
       "    .dataframe tbody tr th {\n",
       "        vertical-align: top;\n",
       "    }\n",
       "\n",
       "    .dataframe thead th {\n",
       "        text-align: right;\n",
       "    }\n",
       "</style>\n",
       "<table border=\"1\" class=\"dataframe\">\n",
       "  <thead>\n",
       "    <tr style=\"text-align: right;\">\n",
       "      <th></th>\n",
       "      <th>id</th>\n",
       "      <th>name</th>\n",
       "      <th>document_text</th>\n",
       "      <th>text</th>\n",
       "    </tr>\n",
       "  </thead>\n",
       "  <tbody>\n",
       "    <tr>\n",
       "      <th>0</th>\n",
       "      <td>4771</td>\n",
       "      <td>Companies (Amendment) Regulations 2020</td>\n",
       "      <td>Accounting and Corporate Regulatory Authority ...</td>\n",
       "      <td>Companies (Amendment) Regulations 2020. Accoun...</td>\n",
       "    </tr>\n",
       "    <tr>\n",
       "      <th>1</th>\n",
       "      <td>4773</td>\n",
       "      <td>Notice of Intended Action Section 810-5-75-.31...</td>\n",
       "      <td>The Notice of intended action regarding sectio...</td>\n",
       "      <td>Notice of Intended Action Section 810-5-75-.31...</td>\n",
       "    </tr>\n",
       "    <tr>\n",
       "      <th>2</th>\n",
       "      <td>4787</td>\n",
       "      <td>Case and Desist Order in the Matter of Henry C...</td>\n",
       "      <td>On January 9th, 2020, the Staff of the Arkansa...</td>\n",
       "      <td>Case and Desist Order in the Matter of Henry C...</td>\n",
       "    </tr>\n",
       "    <tr>\n",
       "      <th>3</th>\n",
       "      <td>4791</td>\n",
       "      <td>AUSTRAC Further Strengthens International Part...</td>\n",
       "      <td>On January 10, 2020, AUSTRAC and Great Britain...</td>\n",
       "      <td>AUSTRAC Further Strengthens International Part...</td>\n",
       "    </tr>\n",
       "    <tr>\n",
       "      <th>4</th>\n",
       "      <td>4794</td>\n",
       "      <td>Sydney Man Accused of Travelling to Philippine...</td>\n",
       "      <td>AUSTRAC published that a 63-year-old Sydney ma...</td>\n",
       "      <td>Sydney Man Accused of Travelling to Philippine...</td>\n",
       "    </tr>\n",
       "  </tbody>\n",
       "</table>\n",
       "</div>"
      ],
      "text/plain": [
       "     id                                               name  \\\n",
       "0  4771             Companies (Amendment) Regulations 2020   \n",
       "1  4773  Notice of Intended Action Section 810-5-75-.31...   \n",
       "2  4787  Case and Desist Order in the Matter of Henry C...   \n",
       "3  4791  AUSTRAC Further Strengthens International Part...   \n",
       "4  4794  Sydney Man Accused of Travelling to Philippine...   \n",
       "\n",
       "                                       document_text  \\\n",
       "0  Accounting and Corporate Regulatory Authority ...   \n",
       "1  The Notice of intended action regarding sectio...   \n",
       "2  On January 9th, 2020, the Staff of the Arkansa...   \n",
       "3  On January 10, 2020, AUSTRAC and Great Britain...   \n",
       "4  AUSTRAC published that a 63-year-old Sydney ma...   \n",
       "\n",
       "                                                text  \n",
       "0  Companies (Amendment) Regulations 2020. Accoun...  \n",
       "1  Notice of Intended Action Section 810-5-75-.31...  \n",
       "2  Case and Desist Order in the Matter of Henry C...  \n",
       "3  AUSTRAC Further Strengthens International Part...  \n",
       "4  Sydney Man Accused of Travelling to Philippine...  "
      ]
     },
     "execution_count": 9,
     "metadata": {},
     "output_type": "execute_result"
    }
   ],
   "source": [
    "test_df.head()"
   ]
  },
  {
   "cell_type": "code",
   "execution_count": 10,
   "id": "983fa120",
   "metadata": {
    "execution": {
     "iopub.execute_input": "2022-11-24T09:54:47.103174Z",
     "iopub.status.busy": "2022-11-24T09:54:47.102412Z",
     "iopub.status.idle": "2022-11-24T09:54:47.858893Z",
     "shell.execute_reply": "2022-11-24T09:54:47.857999Z"
    },
    "papermill": {
     "duration": 0.770061,
     "end_time": "2022-11-24T09:54:47.861288",
     "exception": false,
     "start_time": "2022-11-24T09:54:47.091227",
     "status": "completed"
    },
    "tags": []
   },
   "outputs": [],
   "source": [
    "test_logits = np.mean(all_test_logits, axis=0)\n",
    "test_preds = post_process_logits(test_logits)\n",
    "\n",
    "# Save test logits\n",
    "test_dict = {\"id\": test_df['id'], \"logits\": test_logits}\n",
    "save_pickle(test_dict, OUTPUT_DIR/f\"{cfg.exp_name}_test_logits.pkl\")"
   ]
  },
  {
   "cell_type": "markdown",
   "id": "2056ef6c",
   "metadata": {
    "papermill": {
     "duration": 0.009911,
     "end_time": "2022-11-24T09:54:47.885342",
     "exception": false,
     "start_time": "2022-11-24T09:54:47.875431",
     "status": "completed"
    },
    "tags": []
   },
   "source": [
    "# Create Submission "
   ]
  },
  {
   "cell_type": "code",
   "execution_count": 11,
   "id": "055ac821",
   "metadata": {
    "execution": {
     "iopub.execute_input": "2022-11-24T09:54:47.906471Z",
     "iopub.status.busy": "2022-11-24T09:54:47.906201Z",
     "iopub.status.idle": "2022-11-24T09:54:49.006496Z",
     "shell.execute_reply": "2022-11-24T09:54:49.005651Z"
    },
    "papermill": {
     "duration": 1.113297,
     "end_time": "2022-11-24T09:54:49.008651",
     "exception": false,
     "start_time": "2022-11-24T09:54:47.895354",
     "status": "completed"
    },
    "tags": []
   },
   "outputs": [
    {
     "data": {
      "text/html": [
       "<div>\n",
       "<style scoped>\n",
       "    .dataframe tbody tr th:only-of-type {\n",
       "        vertical-align: middle;\n",
       "    }\n",
       "\n",
       "    .dataframe tbody tr th {\n",
       "        vertical-align: top;\n",
       "    }\n",
       "\n",
       "    .dataframe thead th {\n",
       "        text-align: right;\n",
       "    }\n",
       "</style>\n",
       "<table border=\"1\" class=\"dataframe\">\n",
       "  <thead>\n",
       "    <tr style=\"text-align: right;\">\n",
       "      <th></th>\n",
       "      <th>id</th>\n",
       "      <th>predictions</th>\n",
       "    </tr>\n",
       "  </thead>\n",
       "  <tbody>\n",
       "    <tr>\n",
       "      <th>0</th>\n",
       "      <td>4771_Accounting and Finance</td>\n",
       "      <td>1</td>\n",
       "    </tr>\n",
       "    <tr>\n",
       "      <th>1</th>\n",
       "      <td>4771_Antitrust</td>\n",
       "      <td>0</td>\n",
       "    </tr>\n",
       "    <tr>\n",
       "      <th>2</th>\n",
       "      <td>4771_Banking</td>\n",
       "      <td>0</td>\n",
       "    </tr>\n",
       "    <tr>\n",
       "      <th>3</th>\n",
       "      <td>4771_Broker Dealer</td>\n",
       "      <td>0</td>\n",
       "    </tr>\n",
       "    <tr>\n",
       "      <th>4</th>\n",
       "      <td>4771_Commodities Trading</td>\n",
       "      <td>0</td>\n",
       "    </tr>\n",
       "  </tbody>\n",
       "</table>\n",
       "</div>"
      ],
      "text/plain": [
       "                            id  predictions\n",
       "0  4771_Accounting and Finance            1\n",
       "1               4771_Antitrust            0\n",
       "2                 4771_Banking            0\n",
       "3           4771_Broker Dealer            0\n",
       "4     4771_Commodities Trading            0"
      ]
     },
     "execution_count": 11,
     "metadata": {},
     "output_type": "execute_result"
    }
   ],
   "source": [
    "ids = []\n",
    "for id_ in test_df['id'].to_numpy():\n",
    "    for col in LABEL_COLS:\n",
    "        ids.append(f\"{id_}_{col}\")\n",
    "        \n",
    "sub_df = pd.DataFrame()\n",
    "sub_df['id'] = ids\n",
    "sub_df['predictions'] = test_preds\n",
    "sub_df.to_csv(OUTPUT_DIR/f\"{cfg.exp_name}_sub.csv\", index=False)\n",
    "sub_df.head()"
   ]
  },
  {
   "cell_type": "markdown",
   "id": "1ef814d4",
   "metadata": {
    "papermill": {
     "duration": 0.00995,
     "end_time": "2022-11-24T09:54:49.029421",
     "exception": false,
     "start_time": "2022-11-24T09:54:49.019471",
     "status": "completed"
    },
    "tags": []
   },
   "source": [
    "# Upload artifacts to W&B"
   ]
  },
  {
   "cell_type": "code",
   "execution_count": 12,
   "id": "ccf64cda",
   "metadata": {
    "execution": {
     "iopub.execute_input": "2022-11-24T09:54:49.051305Z",
     "iopub.status.busy": "2022-11-24T09:54:49.050500Z",
     "iopub.status.idle": "2022-11-24T09:55:03.136839Z",
     "shell.execute_reply": "2022-11-24T09:55:03.135866Z"
    },
    "papermill": {
     "duration": 14.099557,
     "end_time": "2022-11-24T09:55:03.139151",
     "exception": false,
     "start_time": "2022-11-24T09:54:49.039594",
     "status": "completed"
    },
    "tags": []
   },
   "outputs": [
    {
     "name": "stderr",
     "output_type": "stream",
     "text": [
      "\u001b[34m\u001b[1mwandb\u001b[0m: Adding directory to artifact (/kaggle/working/artifacts/xgb-countvect)... Done. 0.4s\n"
     ]
    },
    {
     "data": {
      "text/html": [
       "Waiting for W&B process to finish... <strong style=\"color:green\">(success).</strong>"
      ],
      "text/plain": [
       "<IPython.core.display.HTML object>"
      ]
     },
     "metadata": {},
     "output_type": "display_data"
    },
    {
     "data": {
      "text/html": [
       "<style>\n",
       "    table.wandb td:nth-child(1) { padding: 0 10px; text-align: left ; width: auto;} td:nth-child(2) {text-align: left ; width: 100%}\n",
       "    .wandb-row { display: flex; flex-direction: row; flex-wrap: wrap; justify-content: flex-start; width: 100% }\n",
       "    .wandb-col { display: flex; flex-direction: column; flex-basis: 100%; flex: 1; padding: 10px; }\n",
       "    </style>\n",
       "<div class=\"wandb-row\"><div class=\"wandb-col\"><h3>Run history:</h3><br/><table class=\"wandb\"><tr><td>cv</td><td>▁</td></tr></table><br/></div><div class=\"wandb-col\"><h3>Run summary:</h3><br/><table class=\"wandb\"><tr><td>cv</td><td>0.8888</td></tr></table><br/></div></div>"
      ],
      "text/plain": [
       "<IPython.core.display.HTML object>"
      ]
     },
     "metadata": {},
     "output_type": "display_data"
    },
    {
     "data": {
      "text/html": [
       "Synced <strong style=\"color:#cdcd00\">xgb-countvect</strong>: <a href=\"https://wandb.ai/gladiator/DataSolve-2022/runs/dl9j2m55\" target=\"_blank\">https://wandb.ai/gladiator/DataSolve-2022/runs/dl9j2m55</a><br/>Synced 6 W&B file(s), 0 media file(s), 18 artifact file(s) and 2 other file(s)"
      ],
      "text/plain": [
       "<IPython.core.display.HTML object>"
      ]
     },
     "metadata": {},
     "output_type": "display_data"
    },
    {
     "data": {
      "text/html": [
       "Find logs at: <code>./wandb/run-20221124_083916-dl9j2m55/logs</code>"
      ],
      "text/plain": [
       "<IPython.core.display.HTML object>"
      ]
     },
     "metadata": {},
     "output_type": "display_data"
    }
   ],
   "source": [
    "# save experiment config file\n",
    "config_file_save_path = OUTPUT_DIR / f\"{cfg.exp_name}_config.yaml\"\n",
    "with open(config_file_save_path, \"w\") as fp:\n",
    "    OmegaConf.save(config=cfg, f=fp.name)\n",
    "if cfg.wandb:\n",
    "    # log artifacts to wandb\n",
    "    if cfg.upload_artifacts_to_wandb:\n",
    "        model_artifact = wandb.Artifact(name=cfg.exp_name, type=\"model\")\n",
    "        model_artifact.add_dir(OUTPUT_DIR)\n",
    "        wandb.log_artifact(model_artifact)\n",
    "\n",
    "    wandb.alert(\n",
    "        title=f\"Experiment {cfg.exp_name}\",\n",
    "        text=f\"🎉 Finished experiment {cfg.exp_name}\",\n",
    "        level=AlertLevel.INFO,\n",
    "        wait_duration=0,\n",
    "    )\n",
    "    shutil.copyfile(config_file_save_path, os.path.join(wandb.run.dir, f\"{cfg.exp_name}_config.yaml\"))\n",
    "    wandb.finish()"
   ]
  }
 ],
 "metadata": {
  "kernelspec": {
   "display_name": "Python 3",
   "language": "python",
   "name": "python3"
  },
  "language_info": {
   "codemirror_mode": {
    "name": "ipython",
    "version": 3
   },
   "file_extension": ".py",
   "mimetype": "text/x-python",
   "name": "python",
   "nbconvert_exporter": "python",
   "pygments_lexer": "ipython3",
   "version": "3.7.12"
  },
  "papermill": {
   "default_parameters": {},
   "duration": 4621.256431,
   "end_time": "2022-11-24T09:55:05.482478",
   "environment_variables": {},
   "exception": null,
   "input_path": "__notebook__.ipynb",
   "output_path": "__notebook__.ipynb",
   "parameters": {},
   "start_time": "2022-11-24T08:38:04.226047",
   "version": "2.3.4"
  },
  "widgets": {
   "application/vnd.jupyter.widget-state+json": {
    "state": {
     "0a6211e1e5de45f3a7f29de7f992d7e8": {
      "model_module": "@jupyter-widgets/controls",
      "model_module_version": "1.5.0",
      "model_name": "FloatProgressModel",
      "state": {
       "_dom_classes": [],
       "_model_module": "@jupyter-widgets/controls",
       "_model_module_version": "1.5.0",
       "_model_name": "FloatProgressModel",
       "_view_count": null,
       "_view_module": "@jupyter-widgets/controls",
       "_view_module_version": "1.5.0",
       "_view_name": "ProgressView",
       "bar_style": "",
       "description": "",
       "description_tooltip": null,
       "layout": "IPY_MODEL_a073089046eb45b78b719fb6bb7e6f57",
       "max": 1.0,
       "min": 0.0,
       "orientation": "horizontal",
       "style": "IPY_MODEL_739db0a97e5a4cb7b9dc315f84f16d8c",
       "value": 0.0
      }
     },
     "195692ebbc8f4e91a22b362c439c42fa": {
      "model_module": "@jupyter-widgets/controls",
      "model_module_version": "1.5.0",
      "model_name": "LabelModel",
      "state": {
       "_dom_classes": [],
       "_model_module": "@jupyter-widgets/controls",
       "_model_module_version": "1.5.0",
       "_model_name": "LabelModel",
       "_view_count": null,
       "_view_module": "@jupyter-widgets/controls",
       "_view_module_version": "1.5.0",
       "_view_name": "LabelView",
       "description": "",
       "description_tooltip": null,
       "layout": "IPY_MODEL_ff1719b5c95941d6919679eda6432048",
       "placeholder": "​",
       "style": "IPY_MODEL_ba8b0de06bbe43038981b0fbb7b53273",
       "value": ""
      }
     },
     "1fb0503da95b418eb567104ca4917912": {
      "model_module": "@jupyter-widgets/controls",
      "model_module_version": "1.5.0",
      "model_name": "VBoxModel",
      "state": {
       "_dom_classes": [],
       "_model_module": "@jupyter-widgets/controls",
       "_model_module_version": "1.5.0",
       "_model_name": "VBoxModel",
       "_view_count": null,
       "_view_module": "@jupyter-widgets/controls",
       "_view_module_version": "1.5.0",
       "_view_name": "VBoxView",
       "box_style": "",
       "children": [
        "IPY_MODEL_195692ebbc8f4e91a22b362c439c42fa",
        "IPY_MODEL_5d719f7fc04a498ea40a54a25c79b725"
       ],
       "layout": "IPY_MODEL_c4362e5368ed4327b7a6f4cff8530ba9"
      }
     },
     "3ff4ddf8e9ad41eda41af3f897dd1da7": {
      "model_module": "@jupyter-widgets/base",
      "model_module_version": "1.2.0",
      "model_name": "LayoutModel",
      "state": {
       "_model_module": "@jupyter-widgets/base",
       "_model_module_version": "1.2.0",
       "_model_name": "LayoutModel",
       "_view_count": null,
       "_view_module": "@jupyter-widgets/base",
       "_view_module_version": "1.2.0",
       "_view_name": "LayoutView",
       "align_content": null,
       "align_items": null,
       "align_self": null,
       "border": null,
       "bottom": null,
       "display": null,
       "flex": null,
       "flex_flow": null,
       "grid_area": null,
       "grid_auto_columns": null,
       "grid_auto_flow": null,
       "grid_auto_rows": null,
       "grid_column": null,
       "grid_gap": null,
       "grid_row": null,
       "grid_template_areas": null,
       "grid_template_columns": null,
       "grid_template_rows": null,
       "height": null,
       "justify_content": null,
       "justify_items": null,
       "left": null,
       "margin": null,
       "max_height": null,
       "max_width": null,
       "min_height": null,
       "min_width": null,
       "object_fit": null,
       "object_position": null,
       "order": null,
       "overflow": null,
       "overflow_x": null,
       "overflow_y": null,
       "padding": null,
       "right": null,
       "top": null,
       "visibility": null,
       "width": null
      }
     },
     "5d719f7fc04a498ea40a54a25c79b725": {
      "model_module": "@jupyter-widgets/controls",
      "model_module_version": "1.5.0",
      "model_name": "FloatProgressModel",
      "state": {
       "_dom_classes": [],
       "_model_module": "@jupyter-widgets/controls",
       "_model_module_version": "1.5.0",
       "_model_name": "FloatProgressModel",
       "_view_count": null,
       "_view_module": "@jupyter-widgets/controls",
       "_view_module_version": "1.5.0",
       "_view_name": "ProgressView",
       "bar_style": "",
       "description": "",
       "description_tooltip": null,
       "layout": "IPY_MODEL_3ff4ddf8e9ad41eda41af3f897dd1da7",
       "max": 1.0,
       "min": 0.0,
       "orientation": "horizontal",
       "style": "IPY_MODEL_816d51a0c9d64a8789fbe8bebf22a30f",
       "value": 0.0
      }
     },
     "669778a4a0914130aad206df649441e2": {
      "model_module": "@jupyter-widgets/controls",
      "model_module_version": "1.5.0",
      "model_name": "DescriptionStyleModel",
      "state": {
       "_model_module": "@jupyter-widgets/controls",
       "_model_module_version": "1.5.0",
       "_model_name": "DescriptionStyleModel",
       "_view_count": null,
       "_view_module": "@jupyter-widgets/base",
       "_view_module_version": "1.2.0",
       "_view_name": "StyleView",
       "description_width": ""
      }
     },
     "6cffe575170a425a971b4d8fe5ba7026": {
      "model_module": "@jupyter-widgets/base",
      "model_module_version": "1.2.0",
      "model_name": "LayoutModel",
      "state": {
       "_model_module": "@jupyter-widgets/base",
       "_model_module_version": "1.2.0",
       "_model_name": "LayoutModel",
       "_view_count": null,
       "_view_module": "@jupyter-widgets/base",
       "_view_module_version": "1.2.0",
       "_view_name": "LayoutView",
       "align_content": null,
       "align_items": null,
       "align_self": null,
       "border": null,
       "bottom": null,
       "display": null,
       "flex": null,
       "flex_flow": null,
       "grid_area": null,
       "grid_auto_columns": null,
       "grid_auto_flow": null,
       "grid_auto_rows": null,
       "grid_column": null,
       "grid_gap": null,
       "grid_row": null,
       "grid_template_areas": null,
       "grid_template_columns": null,
       "grid_template_rows": null,
       "height": null,
       "justify_content": null,
       "justify_items": null,
       "left": null,
       "margin": null,
       "max_height": null,
       "max_width": null,
       "min_height": null,
       "min_width": null,
       "object_fit": null,
       "object_position": null,
       "order": null,
       "overflow": null,
       "overflow_x": null,
       "overflow_y": null,
       "padding": null,
       "right": null,
       "top": null,
       "visibility": null,
       "width": null
      }
     },
     "739db0a97e5a4cb7b9dc315f84f16d8c": {
      "model_module": "@jupyter-widgets/controls",
      "model_module_version": "1.5.0",
      "model_name": "ProgressStyleModel",
      "state": {
       "_model_module": "@jupyter-widgets/controls",
       "_model_module_version": "1.5.0",
       "_model_name": "ProgressStyleModel",
       "_view_count": null,
       "_view_module": "@jupyter-widgets/base",
       "_view_module_version": "1.2.0",
       "_view_name": "StyleView",
       "bar_color": null,
       "description_width": ""
      }
     },
     "81317545a79c4205bbe1f6284879d5e3": {
      "model_module": "@jupyter-widgets/base",
      "model_module_version": "1.2.0",
      "model_name": "LayoutModel",
      "state": {
       "_model_module": "@jupyter-widgets/base",
       "_model_module_version": "1.2.0",
       "_model_name": "LayoutModel",
       "_view_count": null,
       "_view_module": "@jupyter-widgets/base",
       "_view_module_version": "1.2.0",
       "_view_name": "LayoutView",
       "align_content": null,
       "align_items": null,
       "align_self": null,
       "border": null,
       "bottom": null,
       "display": null,
       "flex": null,
       "flex_flow": null,
       "grid_area": null,
       "grid_auto_columns": null,
       "grid_auto_flow": null,
       "grid_auto_rows": null,
       "grid_column": null,
       "grid_gap": null,
       "grid_row": null,
       "grid_template_areas": null,
       "grid_template_columns": null,
       "grid_template_rows": null,
       "height": null,
       "justify_content": null,
       "justify_items": null,
       "left": null,
       "margin": null,
       "max_height": null,
       "max_width": null,
       "min_height": null,
       "min_width": null,
       "object_fit": null,
       "object_position": null,
       "order": null,
       "overflow": null,
       "overflow_x": null,
       "overflow_y": null,
       "padding": null,
       "right": null,
       "top": null,
       "visibility": null,
       "width": null
      }
     },
     "816d51a0c9d64a8789fbe8bebf22a30f": {
      "model_module": "@jupyter-widgets/controls",
      "model_module_version": "1.5.0",
      "model_name": "ProgressStyleModel",
      "state": {
       "_model_module": "@jupyter-widgets/controls",
       "_model_module_version": "1.5.0",
       "_model_name": "ProgressStyleModel",
       "_view_count": null,
       "_view_module": "@jupyter-widgets/base",
       "_view_module_version": "1.2.0",
       "_view_name": "StyleView",
       "bar_color": null,
       "description_width": ""
      }
     },
     "a073089046eb45b78b719fb6bb7e6f57": {
      "model_module": "@jupyter-widgets/base",
      "model_module_version": "1.2.0",
      "model_name": "LayoutModel",
      "state": {
       "_model_module": "@jupyter-widgets/base",
       "_model_module_version": "1.2.0",
       "_model_name": "LayoutModel",
       "_view_count": null,
       "_view_module": "@jupyter-widgets/base",
       "_view_module_version": "1.2.0",
       "_view_name": "LayoutView",
       "align_content": null,
       "align_items": null,
       "align_self": null,
       "border": null,
       "bottom": null,
       "display": null,
       "flex": null,
       "flex_flow": null,
       "grid_area": null,
       "grid_auto_columns": null,
       "grid_auto_flow": null,
       "grid_auto_rows": null,
       "grid_column": null,
       "grid_gap": null,
       "grid_row": null,
       "grid_template_areas": null,
       "grid_template_columns": null,
       "grid_template_rows": null,
       "height": null,
       "justify_content": null,
       "justify_items": null,
       "left": null,
       "margin": null,
       "max_height": null,
       "max_width": null,
       "min_height": null,
       "min_width": null,
       "object_fit": null,
       "object_position": null,
       "order": null,
       "overflow": null,
       "overflow_x": null,
       "overflow_y": null,
       "padding": null,
       "right": null,
       "top": null,
       "visibility": null,
       "width": null
      }
     },
     "a6378e0ab5d446658044f06840737492": {
      "model_module": "@jupyter-widgets/controls",
      "model_module_version": "1.5.0",
      "model_name": "LabelModel",
      "state": {
       "_dom_classes": [],
       "_model_module": "@jupyter-widgets/controls",
       "_model_module_version": "1.5.0",
       "_model_name": "LabelModel",
       "_view_count": null,
       "_view_module": "@jupyter-widgets/controls",
       "_view_module_version": "1.5.0",
       "_view_name": "LabelView",
       "description": "",
       "description_tooltip": null,
       "layout": "IPY_MODEL_81317545a79c4205bbe1f6284879d5e3",
       "placeholder": "​",
       "style": "IPY_MODEL_669778a4a0914130aad206df649441e2",
       "value": ""
      }
     },
     "ba8b0de06bbe43038981b0fbb7b53273": {
      "model_module": "@jupyter-widgets/controls",
      "model_module_version": "1.5.0",
      "model_name": "DescriptionStyleModel",
      "state": {
       "_model_module": "@jupyter-widgets/controls",
       "_model_module_version": "1.5.0",
       "_model_name": "DescriptionStyleModel",
       "_view_count": null,
       "_view_module": "@jupyter-widgets/base",
       "_view_module_version": "1.2.0",
       "_view_name": "StyleView",
       "description_width": ""
      }
     },
     "c4362e5368ed4327b7a6f4cff8530ba9": {
      "model_module": "@jupyter-widgets/base",
      "model_module_version": "1.2.0",
      "model_name": "LayoutModel",
      "state": {
       "_model_module": "@jupyter-widgets/base",
       "_model_module_version": "1.2.0",
       "_model_name": "LayoutModel",
       "_view_count": null,
       "_view_module": "@jupyter-widgets/base",
       "_view_module_version": "1.2.0",
       "_view_name": "LayoutView",
       "align_content": null,
       "align_items": null,
       "align_self": null,
       "border": null,
       "bottom": null,
       "display": null,
       "flex": null,
       "flex_flow": null,
       "grid_area": null,
       "grid_auto_columns": null,
       "grid_auto_flow": null,
       "grid_auto_rows": null,
       "grid_column": null,
       "grid_gap": null,
       "grid_row": null,
       "grid_template_areas": null,
       "grid_template_columns": null,
       "grid_template_rows": null,
       "height": null,
       "justify_content": null,
       "justify_items": null,
       "left": null,
       "margin": null,
       "max_height": null,
       "max_width": null,
       "min_height": null,
       "min_width": null,
       "object_fit": null,
       "object_position": null,
       "order": null,
       "overflow": null,
       "overflow_x": null,
       "overflow_y": null,
       "padding": null,
       "right": null,
       "top": null,
       "visibility": null,
       "width": null
      }
     },
     "c58d0c2fd18244c5a4c80e24f42e7a00": {
      "model_module": "@jupyter-widgets/controls",
      "model_module_version": "1.5.0",
      "model_name": "VBoxModel",
      "state": {
       "_dom_classes": [],
       "_model_module": "@jupyter-widgets/controls",
       "_model_module_version": "1.5.0",
       "_model_name": "VBoxModel",
       "_view_count": null,
       "_view_module": "@jupyter-widgets/controls",
       "_view_module_version": "1.5.0",
       "_view_name": "VBoxView",
       "box_style": "",
       "children": [
        "IPY_MODEL_a6378e0ab5d446658044f06840737492",
        "IPY_MODEL_0a6211e1e5de45f3a7f29de7f992d7e8"
       ],
       "layout": "IPY_MODEL_6cffe575170a425a971b4d8fe5ba7026"
      }
     },
     "ff1719b5c95941d6919679eda6432048": {
      "model_module": "@jupyter-widgets/base",
      "model_module_version": "1.2.0",
      "model_name": "LayoutModel",
      "state": {
       "_model_module": "@jupyter-widgets/base",
       "_model_module_version": "1.2.0",
       "_model_name": "LayoutModel",
       "_view_count": null,
       "_view_module": "@jupyter-widgets/base",
       "_view_module_version": "1.2.0",
       "_view_name": "LayoutView",
       "align_content": null,
       "align_items": null,
       "align_self": null,
       "border": null,
       "bottom": null,
       "display": null,
       "flex": null,
       "flex_flow": null,
       "grid_area": null,
       "grid_auto_columns": null,
       "grid_auto_flow": null,
       "grid_auto_rows": null,
       "grid_column": null,
       "grid_gap": null,
       "grid_row": null,
       "grid_template_areas": null,
       "grid_template_columns": null,
       "grid_template_rows": null,
       "height": null,
       "justify_content": null,
       "justify_items": null,
       "left": null,
       "margin": null,
       "max_height": null,
       "max_width": null,
       "min_height": null,
       "min_width": null,
       "object_fit": null,
       "object_position": null,
       "order": null,
       "overflow": null,
       "overflow_x": null,
       "overflow_y": null,
       "padding": null,
       "right": null,
       "top": null,
       "visibility": null,
       "width": null
      }
     }
    },
    "version_major": 2,
    "version_minor": 0
   }
  }
 },
 "nbformat": 4,
 "nbformat_minor": 5
}
